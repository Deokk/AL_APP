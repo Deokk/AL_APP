{
 "cells": [
  {
   "cell_type": "markdown",
   "metadata": {},
   "source": [
    "# Big Picture\n",
    "\n",
    "- 중요성: Real World의 Data는 실생활에 적용하기 힘들기 때문에 실제로 적용할 수 있는 Information으로 바꾸는 과정이 필요하다. Information으로 바꾸기 위해서 어떤 기술들과 과정이 필요한지 대략적으로 확인할 수 있습니다.\n",
    "\n",
    "\n",
    "- 적용: Data를 Information으로 바꾸는 데에 적용이 가능하다. 예로는 이미지를 학습해 그 이미지가 어떤 것인지 분류하는 classfication 작업을 들 수 있습니다.\n",
    "\n",
    "\n",
    "# Real World의 data를 어떻게 Information으로 사용할 수 있을까?\n",
    "\n",
    "\n",
    "1. Science / Engineering (과학 / 공학)\n",
    "\n",
    "① Real World의 데이터를 효율적으로 뽑아낼 수 있는 알고리즘\n",
    "\n",
    "② Real World를 catching을 해서 Perception(인지) - raw data to information\n",
    "\n",
    "③ 결정에 대한 부분 Application(적용) - solution\n",
    "\n",
    "\n",
    "2. Processing\n",
    "\n",
    "① Data Processing (Data to Information)\n",
    "\n",
    "② Decision Processing (Find best solution on information)\n",
    "\n",
    "③ End to End Processing (① / ②를 하나로 묶은 Processing)"
   ]
  },
  {
   "cell_type": "markdown",
   "metadata": {},
   "source": [
    "# Data Processing / Decision Processing 개요\n",
    "\n",
    "- Probability + Stochastics + Linear Algebra\n",
    "\n",
    "\n",
    "1. Data Transform\n",
    "\n",
    "data processing의 종류로 같은 정보를 다른 형태로 변환\n",
    "\n",
    "ex) Fourier 변환\n",
    "\n",
    "2. Feature Extraction\n",
    "\n",
    "데이터 핵심만 추출해 새로운 데이터로 가공\n",
    "\n",
    "ex) PCA\n",
    "\n",
    "3. Similarity & Distance\n",
    "\n",
    "두 데이터가 얼마나 비슷한지 measuring\n",
    "\n",
    "4. Search 알고리즘\n",
    "\n",
    "Sequence에서의 탐색\n",
    "\n",
    "ex) Viterbi Search, A* Search, Beam Search\n",
    "\n",
    "5. Clusturing\n",
    "\n",
    "군집화 기법\n",
    "\n",
    "ex) K-Means, Hierarchal Clusturing"
   ]
  }
 ],
 "metadata": {
  "kernelspec": {
   "display_name": "Python 3",
   "language": "python",
   "name": "python3"
  },
  "language_info": {
   "codemirror_mode": {
    "name": "ipython",
    "version": 3
   },
   "file_extension": ".py",
   "mimetype": "text/x-python",
   "name": "python",
   "nbconvert_exporter": "python",
   "pygments_lexer": "ipython3",
   "version": "3.7.6"
  }
 },
 "nbformat": 4,
 "nbformat_minor": 4
}
