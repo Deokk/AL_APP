{
 "cells": [
  {
   "cell_type": "markdown",
   "metadata": {},
   "source": [
    "# RNN (Recurrent Neural Network)\n",
    "\n",
    "\n",
    "- 중요성: 시퀀스의 길이는 가변적이며, 기존의 뉴럴 네트워크 알고리즘은 이미지처럼 고정된 크기의 입력을 다루는 데는 탁월하지만, 가변적인 크기의 데이터를 모델링하기에는 적합하지 않습니다. Hidden State를 갖고 있는 RNN은 시퀀스를 분석할 때 효과적입니다. 새로운 입력이 들어올 때마다 네트워크는 Hidden State를 조금씩 수정하고 결국 입력을 모두 처리하고 난 후 네트워크에게 남겨진 결과는 시퀀스 전체를 요약하는 정보가 됩니다.\n",
    "\n",
    "\n",
    "- 적용: 음악, 동영상, 에세이, 시, 소스 코드, 주가 차트등 시퀀스 정보를 분석할 때 적용이 가능합니다.\n",
    "\n",
    "\n",
    "# Multiple Data Abstraction\n",
    "\n",
    "Element-Wise Average"
   ]
  },
  {
   "cell_type": "code",
   "execution_count": 1,
   "metadata": {},
   "outputs": [
    {
     "name": "stdout",
     "output_type": "stream",
     "text": [
      "Element-Wise Average [9.66666667 3.         6.66666667]\n"
     ]
    }
   ],
   "source": [
    "import numpy as np\n",
    "\n",
    "a = np.array([10, 2, 8])\n",
    "b = np.array([13, 4, 8])\n",
    "c = np.array([6, 3, 4])\n",
    "\n",
    "print('Element-Wise Average', (a + b + c)/3)"
   ]
  },
  {
   "cell_type": "markdown",
   "metadata": {},
   "source": [
    "Element-Wise Summation"
   ]
  },
  {
   "cell_type": "code",
   "execution_count": 5,
   "metadata": {},
   "outputs": [
    {
     "name": "stdout",
     "output_type": "stream",
     "text": [
      "Element-Wise Summation [9.6 3.2 6.4]\n"
     ]
    }
   ],
   "source": [
    "# 가중치를 곱하여 더하는 방식\n",
    "\n",
    "w1 = 0.2\n",
    "w2 = 0.4\n",
    "w3 = 0.4\n",
    "\n",
    "print('Element-Wise Summation', (a*w1 + b*w2 + c*w3))"
   ]
  },
  {
   "cell_type": "markdown",
   "metadata": {},
   "source": [
    "Element-Wise Calculation\n",
    "\n",
    "각 Data를 각각 Projection 시킨 뒤에 축소된 Data 상에서 Sequence Wise 요약방법을 적용"
   ]
  },
  {
   "attachments": {},
   "cell_type": "markdown",
   "metadata": {},
   "source": [
    "# Temporal Summarization\n",
    "\n",
    "Data Transformation에 'Temporal 정보'(Context:부가정보)를 반영\n",
    "\n",
    "![title](Image/13-1.png)"
   ]
  },
  {
   "attachments": {},
   "cell_type": "markdown",
   "metadata": {},
   "source": [
    "# RNN 구조\n",
    "\n",
    "![title](Image/13-2.png)"
   ]
  },
  {
   "attachments": {},
   "cell_type": "markdown",
   "metadata": {},
   "source": [
    "![title](Image/13-3.png)"
   ]
  },
  {
   "attachments": {},
   "cell_type": "markdown",
   "metadata": {},
   "source": [
    "Bidirectional RNN\n",
    "\n",
    "![title](Image/13-4.png)"
   ]
  },
  {
   "attachments": {},
   "cell_type": "markdown",
   "metadata": {},
   "source": [
    "Stacking RNN\n",
    "\n",
    "![title](Image/13-5.png)"
   ]
  },
  {
   "attachments": {},
   "cell_type": "markdown",
   "metadata": {},
   "source": [
    "# RNN 한계\n",
    "\n",
    "![title](Image/13-6.png)\n",
    "\n",
    "ⓐ Out1에는 Data2와 Data3의 정보 반영이 안됩니다.\n",
    "\n",
    "ⓑ 멀리있는 Data 1dml wjdqhsms Out3에 반영이 어렵습니다.\n",
    "\n",
    "해결방법: Global Summarization, LSTM, GRU"
   ]
  },
  {
   "attachments": {},
   "cell_type": "markdown",
   "metadata": {},
   "source": [
    "![title](Image/13-7.png)\n",
    "\n",
    "RNN의 최종 결과물이 Sequence의 Vector Form이라는 Idea"
   ]
  },
  {
   "attachments": {},
   "cell_type": "markdown",
   "metadata": {},
   "source": [
    "![title](Image/13-8.png)\n",
    "\n",
    "RNN의 결과 정보를 복사해 Decoding하는 방식"
   ]
  },
  {
   "attachments": {},
   "cell_type": "markdown",
   "metadata": {},
   "source": [
    "![title](Image/13-9.png)\n",
    "\n",
    "이를 합쳐서 번역기에 이용 가능합니다."
   ]
  }
 ],
 "metadata": {
  "kernelspec": {
   "display_name": "Python 3",
   "language": "python",
   "name": "python3"
  },
  "language_info": {
   "codemirror_mode": {
    "name": "ipython",
    "version": 3
   },
   "file_extension": ".py",
   "mimetype": "text/x-python",
   "name": "python",
   "nbconvert_exporter": "python",
   "pygments_lexer": "ipython3",
   "version": "3.7.6"
  }
 },
 "nbformat": 4,
 "nbformat_minor": 4
}
