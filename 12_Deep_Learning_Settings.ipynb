{
 "cells": [
  {
   "cell_type": "markdown",
   "metadata": {},
   "source": [
    "# Classification Settings\n",
    "\n",
    "\n",
    "- 중요성: Classification의 성능 향상을 위해 어떤 점을 고려해야 할 지 익힘으로써 더 나은 모델을 만들 수 있습니다.\n",
    "\n",
    "\n",
    "- 적용: 딥러닝 - Classification 모델을 설계할 때 적용이 가능합니다.\n",
    "\n",
    "\n",
    "- Supervised Learning\n",
    "\n",
    "예제문제를 풀게 하고 정답과 비교하며 잘 맞추는 방향으로 학습\n",
    "\n",
    "- Classification\n",
    "\n",
    "정해진 Class에 Score를 부여하고 가장 높은 Score를 가진 Class 선택\n",
    "\n",
    "n개의 Class를 정의하고 Network를 구성합니다.\n",
    "\n",
    "Weighted Sum과 같은 Filter를 이용해서 Network를 구현합니다."
   ]
  },
  {
   "cell_type": "markdown",
   "metadata": {},
   "source": [
    "# Classification 성능향상을 위한 고려점\n",
    "\n",
    "1. Reference Representation\n",
    "\n",
    "정답을 어떻게 표현할지에 대한 방법\n",
    "\n",
    "- One-Hot Representation\n",
    "- 1.0 for Reference Class\n",
    "\n",
    "\n",
    "\n",
    "2. Score Normalization\n",
    "\n",
    "예측과 정답을 비교하기 위해 Score의 Scale을 동일하게 맞춥니다. (대개 0.0 ~ 1.0: softmax)\n",
    "\n",
    "\n",
    "\n",
    "3. Cost Function Design\n",
    "\n",
    "Cross Entropy를 이용합니다.\n",
    "\n",
    "Cross Entropy는 두 개의 확률분포 p와 q에 대해 하나의 사건 X가 갖는 정보량으로 정의됩니다.\n",
    "\n",
    "즉, 서로 다른 두 확률분포에 대해 같은 사건이 가지는 정보량을 계산한 것입니다.\n",
    "\n",
    "이는 q에 대한 정보량을 p에 대해서 평균낸 것으로 볼 수 있습니다.\n",
    "\n",
    "\n",
    "\n",
    "4. Parameter Update\n",
    "\n",
    "오류가 작아지는 방향으로 Parameter를 조정합니다.\n",
    "\n",
    "방향 결정은 기울기(Gradient)를 이용하여 구하게 되며 기울기가 작아지는 방향이 오류를 작게하는 방향으로 해석 가능합니다.\n",
    "\n",
    "- Backpropagation Algorithm: 선형을 비선형으로 활성화\n",
    "\n",
    "Feed Forward and Prediction: 최종 결과물을 얻고\n",
    "\n",
    "Cost Function: 그 결과물과 원하는 결과물의 차이점을 찾은 후\n",
    "\n",
    "Differentiation: 그 차이가 무엇으로 인해 생기는 지\n",
    "\n",
    "Back Propagation: 역으로 내려가면서 추정해여\n",
    "\n",
    "Weight Update: 새로운 Parameter 값을 배움"
   ]
  },
  {
   "cell_type": "code",
   "execution_count": null,
   "metadata": {},
   "outputs": [],
   "source": []
  }
 ],
 "metadata": {
  "kernelspec": {
   "display_name": "Python 3",
   "language": "python",
   "name": "python3"
  },
  "language_info": {
   "codemirror_mode": {
    "name": "ipython",
    "version": 3
   },
   "file_extension": ".py",
   "mimetype": "text/x-python",
   "name": "python",
   "nbconvert_exporter": "python",
   "pygments_lexer": "ipython3",
   "version": "3.7.6"
  }
 },
 "nbformat": 4,
 "nbformat_minor": 4
}
