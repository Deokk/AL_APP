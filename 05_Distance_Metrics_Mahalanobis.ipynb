{
 "cells": [
  {
   "cell_type": "markdown",
   "metadata": {},
   "source": [
    "# Distribution-Wise Distance\n",
    "\n",
    "Cluster가 존재할 때 data의 거리는 다르게 측정해야할 필요가 있다.\n",
    "Cluster안의 point가 밖의 point보다 distance가 가깝도록 한다.\n",
    "\n",
    "하나의 점과 Data 전체와의 거리 계산\n",
    "\n",
    "\n",
    "중요성: 그룹과 점 사이 또는 그룹과 그룹 사이의 거리/유사도를 측정할 수 있다는 점에서 중요합니다.\n",
    "\n",
    "\n",
    "적용: Classification과 Clustering에 이용될 수 있습니다.\n",
    "\n",
    "\n",
    "# Mahalanobis Distance\n",
    "\n",
    "점이 평균과 표준편차로 표현될 때 표준편차의 크기로 거리를 산정"
   ]
  },
  {
   "attachments": {},
   "cell_type": "markdown",
   "metadata": {},
   "source": [
    "![title](Image/5-1.png)"
   ]
  },
  {
   "cell_type": "markdown",
   "metadata": {},
   "source": [
    "Correlation - 상관관계 측정\n",
    "\n",
    "- Data = (Component, Component, ...)\n",
    "\n",
    "- 하나의 Component가 달라질 때 다른 Component가 달라진다면 관련이 있는 것"
   ]
  },
  {
   "cell_type": "markdown",
   "metadata": {},
   "source": [
    "마할라노비스 거리의 단계\n",
    "\n",
    "① 각 Component 사이의 상관관계 제거\n",
    "\n",
    "② Scale에 민감하지 않도록 정규화(Scaling)\n",
    "\n",
    "③ Euclidean처럼 거리 계산"
   ]
  },
  {
   "attachments": {},
   "cell_type": "markdown",
   "metadata": {},
   "source": [
    "![title](Image/5-2.png)"
   ]
  },
  {
   "cell_type": "code",
   "execution_count": 1,
   "metadata": {},
   "outputs": [
    {
     "name": "stdout",
     "output_type": "stream",
     "text": [
      "마할라노비스 거리: 1.7320508075688772\n"
     ]
    }
   ],
   "source": [
    "from scipy.spatial import distance\n",
    "\n",
    "iv = [[1, 0.5, 0.5], [0.5, 1, 0.5], [0.5, 0.5, 1]]\n",
    "\n",
    "print('마할라노비스 거리:', distance.mahalanobis([2, 0, 0], [0, 1, 0], iv))"
   ]
  }
 ],
 "metadata": {
  "kernelspec": {
   "display_name": "Python 3",
   "language": "python",
   "name": "python3"
  },
  "language_info": {
   "codemirror_mode": {
    "name": "ipython",
    "version": 3
   },
   "file_extension": ".py",
   "mimetype": "text/x-python",
   "name": "python",
   "nbconvert_exporter": "python",
   "pygments_lexer": "ipython3",
   "version": "3.7.6"
  }
 },
 "nbformat": 4,
 "nbformat_minor": 4
}
