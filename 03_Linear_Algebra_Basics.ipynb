{
 "cells": [
  {
   "cell_type": "markdown",
   "metadata": {},
   "source": [
    "# Information (Vector로 표현)\n",
    "\n",
    "Configuration (정보 조합)\n",
    "\n",
    "중요성: 한 가지 정보만으로 어떤 속성을 표현하기 어려운 경우가 많습니다. 우리는 자동차 구매를 고려할 때도 각 자동차의 색상, 가격, 연비 등 여러 가지 요소를 고려합니다. 이 처럼 우리가 여러 요소들에 대한 데이터를 수학적으로 분석하거나 표현하려 할 때 Vector값을 사용해 표현할 수 있습니다. \n",
    "\n",
    "\n",
    "적용: RGB - Red, Green, Blue의 조합으로 색을 표현합니다.\n",
    "\n",
    "\n",
    "숫자들을 Vector 형태로 표현\n",
    "\n",
    "v = [v1, v2]\n",
    "\n",
    "1. 벡터합"
   ]
  },
  {
   "cell_type": "code",
   "execution_count": 2,
   "metadata": {},
   "outputs": [
    {
     "data": {
      "text/plain": [
       "array([4, 6])"
      ]
     },
     "execution_count": 2,
     "metadata": {},
     "output_type": "execute_result"
    }
   ],
   "source": [
    "import numpy as np\n",
    "\n",
    "a = [1, 2]\n",
    "b = [3, 4]\n",
    "\n",
    "v1 = np.array(a)\n",
    "v2 = np.array(b)\n",
    "\n",
    "v1 + v2"
   ]
  },
  {
   "cell_type": "markdown",
   "metadata": {},
   "source": [
    "2. 벡터곱"
   ]
  },
  {
   "cell_type": "code",
   "execution_count": 3,
   "metadata": {},
   "outputs": [
    {
     "data": {
      "text/plain": [
       "array([2, 4])"
      ]
     },
     "execution_count": 3,
     "metadata": {},
     "output_type": "execute_result"
    }
   ],
   "source": [
    "v1 * 2"
   ]
  },
  {
   "attachments": {},
   "cell_type": "markdown",
   "metadata": {},
   "source": [
    "# Matrix\n",
    "\n",
    "Matrix의 곱 (Matrix Multiplication)\n",
    "\n",
    "![title](Image/3.png)"
   ]
  }
 ],
 "metadata": {
  "kernelspec": {
   "display_name": "Python 3",
   "language": "python",
   "name": "python3"
  },
  "language_info": {
   "codemirror_mode": {
    "name": "ipython",
    "version": 3
   },
   "file_extension": ".py",
   "mimetype": "text/x-python",
   "name": "python",
   "nbconvert_exporter": "python",
   "pygments_lexer": "ipython3",
   "version": "3.7.6"
  }
 },
 "nbformat": 4,
 "nbformat_minor": 4
}
