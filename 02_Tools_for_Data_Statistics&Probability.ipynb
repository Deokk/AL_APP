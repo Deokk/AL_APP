{
 "cells": [
  {
   "cell_type": "markdown",
   "metadata": {},
   "source": [
    "# Data Science Tool\n",
    "\n",
    "- Probability (확률)\n",
    "- Statistics (통계)\n",
    "- Linear Algebra (선형대수)"
   ]
  },
  {
   "cell_type": "markdown",
   "metadata": {},
   "source": [
    "# Statistics - 중심값\n",
    "\n",
    "\n",
    "- 중요성: 여러 데이터 집합이 존재할 때 이를 대표할 수 있는 지표로 중심값을 사용할 수 있습니다.\n",
    "\n",
    "\n",
    "- 적용: 어떤 데이터를 표현할 때 실생활에서 매우 많이 사용된다. 예로는 대학생의 성적표만 봐도 평균학점이 기재되어 있다. 이는 그 학생이 가지고 있는 여러 과목에 대한 학점이 어느 정도인지 한 눈에 알아볼 수 있도록 해줍니다."
   ]
  },
  {
   "cell_type": "markdown",
   "metadata": {},
   "source": [
    "- Data의 대표값"
   ]
  },
  {
   "cell_type": "code",
   "execution_count": 1,
   "metadata": {},
   "outputs": [],
   "source": [
    "a = [9, 8, 10, 7, 5, 3, 5, 1, 10, 9]"
   ]
  },
  {
   "cell_type": "markdown",
   "metadata": {},
   "source": [
    "위와 같은 데이터가 주어졌을 때 어떤 값이 Data를 설명할 수 있는가?\n",
    "\n",
    "1. 중심값 - Average (평균)"
   ]
  },
  {
   "cell_type": "code",
   "execution_count": 2,
   "metadata": {},
   "outputs": [
    {
     "data": {
      "text/plain": [
       "6.7"
      ]
     },
     "execution_count": 2,
     "metadata": {},
     "output_type": "execute_result"
    }
   ],
   "source": [
    "import numpy as np\n",
    "\n",
    "a_np = np.array(a)\n",
    "np.mean(a_np)"
   ]
  },
  {
   "cell_type": "markdown",
   "metadata": {},
   "source": [
    "2. 중심값  - Median (중앙값)"
   ]
  },
  {
   "cell_type": "code",
   "execution_count": 3,
   "metadata": {},
   "outputs": [
    {
     "data": {
      "text/plain": [
       "array([ 1,  3,  5,  5,  7,  8,  9,  9, 10, 10])"
      ]
     },
     "execution_count": 3,
     "metadata": {},
     "output_type": "execute_result"
    }
   ],
   "source": [
    "a_np.sort()\n",
    "a_np"
   ]
  },
  {
   "cell_type": "markdown",
   "metadata": {},
   "source": [
    "정렬을 했을 때 가운데 값인 7과 8의 평균 = 7.5"
   ]
  },
  {
   "cell_type": "markdown",
   "metadata": {},
   "source": [
    "3. 중심값 - Mode (최빈값)"
   ]
  },
  {
   "cell_type": "markdown",
   "metadata": {},
   "source": [
    "가장 흔히 나타나는 5, 9, 10으로 도출할 수 있습니다."
   ]
  },
  {
   "cell_type": "markdown",
   "metadata": {},
   "source": [
    "* 중심값은 그 데이터내의 '중심적 경향'에 대해 설명\n",
    "* 하지만 데이터 내의 '변화'에 대해서는 설명할 수 없음 "
   ]
  },
  {
   "attachments": {},
   "cell_type": "markdown",
   "metadata": {},
   "source": [
    "# Box Plot 과 Normal Distribution\n",
    "\n",
    "![title](Image/2-1.png)\n",
    "\n",
    "각각의 값들이 어떤 분포를 띄는 지 확인할 수 있어 data의 밀집도를 한눈에 볼 수 있다."
   ]
  },
  {
   "cell_type": "markdown",
   "metadata": {},
   "source": [
    "# Statistics - 변화값\n",
    "\n",
    "\n",
    "- 중요성: 중심값의 경우는 outlier에 민감하고 그 데이터가 어떻게 변화하는 지에 대해서는 알 수가 없다. 따라서 데이터가 어떻게 분포되어 있는지 알고 싶을 때 변화값을 사용하며, 대표적으로 표준편차와 분산이 있습니다.\n",
    "\n",
    "\n",
    "- 적용: 예를 들면 7시 30분에 도착하는 버스가 5일 동안 도착한 시간 데이터의 평균은 31이지만 실제로 버스가 도착한 시간의 제각각입니다. 각 데이터에서 평균값을 뺀 수치로 제각각의 편차가 어느 정도인지를 측정할수 있습니다. 만약 표준편차는 2.6분이라면 버스는 평균적으로 시간표보다 1분 늦게 도착하지만, 실제 도착 시간은 정해진 시간보다 전후로 대략 2.6분정도 다를 수 있다고 생각해도 좋다고 볼 수 있습니다.\n",
    "\n",
    "\n",
    " 중심으로부터 얼마나 벗어나는지에 대한 수치값(변화 정도)\n",
    " \n",
    " - 분산(variance)"
   ]
  },
  {
   "cell_type": "code",
   "execution_count": 4,
   "metadata": {},
   "outputs": [
    {
     "data": {
      "text/plain": [
       "8.610000000000001"
      ]
     },
     "execution_count": 4,
     "metadata": {},
     "output_type": "execute_result"
    }
   ],
   "source": [
    "np.var(a_np)"
   ]
  },
  {
   "cell_type": "markdown",
   "metadata": {},
   "source": [
    " - 표준편차(standard deviation)"
   ]
  },
  {
   "cell_type": "code",
   "execution_count": 5,
   "metadata": {},
   "outputs": [
    {
     "data": {
      "text/plain": [
       "2.934280150224242"
      ]
     },
     "execution_count": 5,
     "metadata": {},
     "output_type": "execute_result"
    }
   ],
   "source": [
    "np.std(a_np)"
   ]
  },
  {
   "cell_type": "markdown",
   "metadata": {},
   "source": [
    "# Probability (확률)\n",
    "\n",
    "중요성: '가능성'에 관한 수학적 수치라고 말할 수 있으며, 어떠한 사건에 대한 가능성을 표현하거나 계산할 때 확률을 사용한다는 점에서 중요성을 가집니다.\n",
    "\n",
    "적용: 어떠한 사건을 미리 예측하거나 판별할 때 적용할 수 있습니다. 예를 들면 야구에서 우리는 타율을 사용합니다. 이는 안타 수를 타수로 나눈 값으로, 야구에서 타자를 평가하는 지표 중 하나로 사용 가능합니다."
   ]
  },
  {
   "cell_type": "markdown",
   "metadata": {},
   "source": [
    "1. 이전의 event를 통해 사건의 확률을 계산합니다. (data 기반)\n",
    "\n",
    "\n",
    "- P(A) = (A가 일어난 경우) / (전체 경우)"
   ]
  },
  {
   "cell_type": "markdown",
   "metadata": {},
   "source": [
    "2. 어떠한 data없이 사건의 확률을 계산합니다. (사전확률)\n",
    "\n",
    "\n",
    "- P(A) = (A가 일어날 경우) / (전체 경우)\n",
    "\n",
    "ex) 주사위 눈이 1이 나올 확률은 1(1이 나올 경우) / 6(전체 경우)"
   ]
  },
  {
   "cell_type": "markdown",
   "metadata": {},
   "source": [
    "3. 독립사건과 종속 사건\n",
    "\n",
    "\n",
    "- 독립사건\n",
    "\n",
    "P(A∩B) = P(A) * P(B)\n",
    "\n",
    "- 종속사건\n",
    "\n",
    "P(A∩B) != P(A) * P(B)"
   ]
  },
  {
   "cell_type": "markdown",
   "metadata": {},
   "source": [
    "# Probability Distribution (확률분포)\n",
    "\n",
    "\n",
    "Data(event의 집합)의 확률계산 방법을 패턴화합니다."
   ]
  },
  {
   "cell_type": "code",
   "execution_count": 6,
   "metadata": {},
   "outputs": [
    {
     "data": {
      "image/png": "[encoded data removed]",
      "text/plain": [
       "<Figure size 432x288 with 1 Axes>"
      ]
     },
     "metadata": {
      "needs_background": "light"
     },
     "output_type": "display_data"
    }
   ],
   "source": [
    "from matplotlib import pyplot as plt\n",
    " \n",
    "P = [0.2, 0.3, 0.5]\n",
    "# 합 = 1.0\n",
    "x = range(len(P))\n",
    "plt.bar(x, P, width = 0.7, color = 'blue')\n",
    "plt.show()"
   ]
  },
  {
   "cell_type": "markdown",
   "metadata": {},
   "source": [
    "- 확률분포 구하는 방법\n",
    "\n",
    "사건 기록 -> 전체 Event 대비 일어난 횟수 -> 각 Event당 확률"
   ]
  },
  {
   "cell_type": "markdown",
   "metadata": {},
   "source": [
    "# Geometric Distribution (기하분포)\n",
    "\n",
    "- 일련의 독립시행 실시\n",
    "- 각 시행은 성공 아니면 실패이고, 성공확률은 동일\n",
    "- n 번째 성공을 거두기 위해 시도해야 하는 시행의 횟수가 관심사 "
   ]
  },
  {
   "cell_type": "code",
   "execution_count": 7,
   "metadata": {},
   "outputs": [
    {
     "data": {
      "image/png": "[encoded data removed]",
      "text/plain": [
       "<Figure size 864x576 with 1 Axes>"
      ]
     },
     "metadata": {
      "needs_background": "light"
     },
     "output_type": "display_data"
    }
   ],
   "source": [
    "from scipy.special import factorial, comb\n",
    "from numpy import arange\n",
    "\n",
    "n = 20\n",
    "x = arange(21)\n",
    "p = 1 / 3\n",
    "y = comb(n, x) * p ** x * (1 - p) ** (n - x)\n",
    "\n",
    "%matplotlib inline\n",
    "\n",
    "plt.figure(figsize=(12, 8))\n",
    "plt.bar(x, y)\n",
    "plt.xlabel('X')\n",
    "plt.ylabel('P(X)')\n",
    "plt.title('Binomial Distribution(n = 20, p = 1/3)')\n",
    "plt.grid()\n",
    "plt.show()"
   ]
  },
  {
   "cell_type": "markdown",
   "metadata": {},
   "source": [
    "Real World에서 data를 추출할 때 유의미하게 샘플링된 데이터를 이용합니다."
   ]
  }
 ],
 "metadata": {
  "kernelspec": {
   "display_name": "Python 3",
   "language": "python",
   "name": "python3"
  },
  "language_info": {
   "codemirror_mode": {
    "name": "ipython",
    "version": 3
   },
   "file_extension": ".py",
   "mimetype": "text/x-python",
   "name": "python",
   "nbconvert_exporter": "python",
   "pygments_lexer": "ipython3",
   "version": "3.7.6"
  }
 },
 "nbformat": 4,
 "nbformat_minor": 4
}
