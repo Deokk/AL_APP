{
 "cells": [
  {
   "attachments": {},
   "cell_type": "markdown",
   "metadata": {},
   "source": [
    "# Viterbi Search\n",
    "\n",
    "최적의 경로를 찾는 탐색법\n",
    "\n",
    "\n",
    "중요성: 일련의 event sequence에서 이전 event를 반영하여 최적의 path를 찾아낼 수 있다는 점에서 가치있는 탐색법으로 사용될 수 있습니다.\n",
    "\n",
    "\n",
    "적용: Part-of-Speech Tagging (POS tagging)에 사용될 수 있습니다. 예로는 문장이 존재할 때 각 문장을 구성하는 단어의 품사를 tagging한다고 할 때 사용될 수 있습니다. 또한 음성 인식, 음성 합성, 화자 구분, 키워드 검출, 전산언어학, 생물정보학 분야에서도 널리 활용되고 있습니다. 음성 인식(Speech to Text)에서는 음향 신호를 관측된 사건들의 순서라고 하면, 문자열은 이러한 음향 신호를 야기한 \"숨겨진 원인(hidden cause)\"으로 간주됩니다. 이 때 비터비 알고리즘은 주어진 음향 신호에 대한 가장 가능성 높은 문자열을 찾아내는데 사용됩니다.\n",
    "\n",
    "![title](Image/11-1.png)"
   ]
  },
  {
   "cell_type": "markdown",
   "metadata": {},
   "source": [
    "# HMM (Hidden Markov Model)\n",
    "\n",
    "Markov Model은 현재 일어날 확률이 바로 이전의 확률에만 영향을 받는 확률 모델\n",
    "\n",
    "이를 기반으로 Viterbi Search를 구현합니다."
   ]
  },
  {
   "attachments": {},
   "cell_type": "markdown",
   "metadata": {},
   "source": [
    "# Viterbi Algorithm\n",
    "\n",
    "![title](Image/11-2.png)\n",
    "\n",
    "\n",
    "동적계획법의 원리와 비슷하게 구현 가능합니다.\n",
    "\n",
    "\n",
    "ⓐ Observation의 길이 * state의 길이의 Matrix를 생성합니다.\n",
    "\n",
    "\n",
    "ⓑ 처음 step의 state의 값을 초기화하여 생성한 Matrix에 저장합니다.\n",
    "\n",
    "\n",
    "ⓒ 각 state에 대해 전 step에서 전이 됐을 때의 최적값을 생성한 Matrix에 저장합니다.\n",
    "\n",
    "\n",
    "ⓓ 2번째 step부터 마지막 step까지 ⓑ, ⓒ를 반복합니다."
   ]
  },
  {
   "cell_type": "code",
   "execution_count": 1,
   "metadata": {},
   "outputs": [],
   "source": [
    "import numpy as np\n",
    "\n",
    "# Viterbi algorithm\n",
    "\n",
    "def viterbi(A, C, B, Obs_seq):\n",
    "    \n",
    "    I = A.shape[0]    # number of states\n",
    "    N = Obs_seq.shape[1]  # length of observation sequence\n",
    "    \n",
    "    # initialize D and E matrices\n",
    "    D = np.zeros([I, N])\n",
    "    E = np.zeros([I, N-1])\n",
    "    D[:, 0] = np.multiply(C, B[:, 0])\n",
    "    \n",
    "    # compute D and E in a nested loop\n",
    "    for n in range(1, N):\n",
    "        for i in range(I):\n",
    "            temp_product = np.multiply(A[:, i], D[:, n-1])\n",
    "            D[i,n] = np.amax(temp_product) * B[i, Obs_seq[0, n]-1]\n",
    "            E[i, n-1] = np.argmax(temp_product)\n",
    "            \n",
    "    max_ind = np.zeros([1, N])\n",
    "    max_ind[0, -1] = np.argmax(D[:, -1])\n",
    "    \n",
    "    # Backtracking\n",
    "    for n in range(N-2, 0, -1):\n",
    "        max_ind[0, n] = E[int(max_ind[0, n+1]), n]\n",
    "    \n",
    "    # Convert zero-based indices to state indices\n",
    "    S_opt = max_ind.astype(int)+1\n",
    "    \n",
    "    return S_opt"
   ]
  },
  {
   "cell_type": "code",
   "execution_count": 2,
   "metadata": {},
   "outputs": [
    {
     "name": "stdout",
     "output_type": "stream",
     "text": [
      "Observation sequence:   [[1 3 1 3 3 2]]\n",
      "Optimal state sequence: [[1 1 1 3 3 2]]\n"
     ]
    }
   ],
   "source": [
    "# Define model parameters\n",
    "\n",
    "A = np.array([[0.8, 0.1, 0.1], \n",
    "              [0.2, 0.7, 0.1], \n",
    "              [0.1, 0.3, 0.6]])\n",
    "\n",
    "C = np.array([[0.6, 0.2, 0.2]])\n",
    "\n",
    "B = np.array([[0.7, 0.0, 0.3], \n",
    "              [0.1, 0.9, 0.0], \n",
    "              [0.0, 0.2, 0.8]])\n",
    "\n",
    "Obs_seq = np.array([[1, 3, 1, 3, 3, 2]])\n",
    "\n",
    "# Apply Viterbi algorithm\n",
    "S_opt = viterbi(A, C, B, Obs_seq)\n",
    "\n",
    "print('Observation sequence:   '+str(Obs_seq))\n",
    "print('Optimal state sequence: '+str(S_opt))"
   ]
  }
 ],
 "metadata": {
  "kernelspec": {
   "display_name": "Python 3",
   "language": "python",
   "name": "python3"
  },
  "language_info": {
   "codemirror_mode": {
    "name": "ipython",
    "version": 3
   },
   "file_extension": ".py",
   "mimetype": "text/x-python",
   "name": "python",
   "nbconvert_exporter": "python",
   "pygments_lexer": "ipython3",
   "version": "3.7.6"
  }
 },
 "nbformat": 4,
 "nbformat_minor": 4
}
