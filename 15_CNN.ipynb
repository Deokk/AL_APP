{
 "cells": [
  {
   "cell_type": "markdown",
   "metadata": {},
   "source": [
    "# CNN (Convolution Neural Network)\n",
    "\n",
    "Image data transformation으로 사용된다.\n",
    "\n",
    "DNN에서는 Filter를 사람이 주어준다면 CNN은 기계가 데이터로부터 배워서 Filter를 만들어주는 방식\n",
    "\n",
    "\n",
    "- 중요성: 하나 또는 여러개의 합성곱 계층과 그 위에 올려진 일반적인 인공 신경망 계층들로 이루어져 있으며, 가중치와 통합 계층(pooling layer)들을 추가로 활용합니다. 이러한 구조 덕분에 CNN은 2차원 구조의 입력 데이터를 충분히 활용할 수 있다는 점에서 중요한 기법이라고 할 수 있습니다.\n",
    "\n",
    "\n",
    "- 적용: 2차원 구조의 입력데이터를 충분히 활용할 수 있기 때문에 CNN은 영상, 음성 분야 Classification에 활용 가능합니다. 예를 들면 모자이크가 들어간 이미지 복원, 흑백사진을 컬러사진으로 복원할 수 있습니다."
   ]
  },
  {
   "attachments": {},
   "cell_type": "markdown",
   "metadata": {},
   "source": [
    "# CNN 용어정리\n",
    "\n",
    "- Filter/Kernel\n",
    "\n",
    "이미지의 특징을 찾아내기 위한 공용 파라미터\n",
    "\n",
    "\n",
    "- Feature Map\n",
    "\n",
    "전체 Data를 가중치를 가진 Filter로 합성곱(Convolution)연산을 통해 만들어진 결과\n",
    "입력 데이터를 지정된 간격으로 순회하며 채널별로 합성곱을 하고 모든 채널(컬러의 경우 3개)의 합성곱의 합을 Feature Map로 만듭니다.\n",
    "\n",
    "- Channel\n",
    "\n",
    "Convolution Layer에 유입되는 입력 데이터에는 한 개 이상의 필터가 적용된다. 1개 필터는 Feature Map의 채널이 된다. Convolution Layer에 n개의 필터가 적용된다면 출력 데이터는 n개의 채널을 갖게 됩니다.\n",
    "\n",
    "\n",
    "- Stride\n",
    "\n",
    "CNN에서 단계별로 필터를 순회하는 간격\n",
    "\n",
    "\n",
    "- Padding\n",
    "\n",
    "Original image에서 Filter와 Stride에 작용으로 Feature Map 크기는 입력데이터 보다 작습니다. Convolution 레이어의 출력 데이터가 줄어드는 것을 방지하는 방법으로 입력 데이터의 외각에 지정된 픽셀만큼 특정 값으로 채워 넣는 것을 Padding이라고 한다. 일반적으로 Zero Padding을 사용합니다.\n",
    "\n",
    "\n",
    "- Pooling\n",
    "\n",
    "중요한 Feature를 뽑아주는 Subsampling 목적이며, 컨볼류션 레이어의 출력 데이터를 입력으로 받아서 출력 데이터(Activation Map)의 크기를 줄이거나 특정 데이터를 강조하는 용도로 사용합니다.\n",
    "\n",
    "![title](Image/15-1.png)"
   ]
  },
  {
   "cell_type": "markdown",
   "metadata": {},
   "source": [
    "- Filter Size\n",
    "\n",
    "정의 가능하며 보통 3-by-3, 5-by-5와 같이 정사각형으로 정의됩니다.\n",
    "\n",
    "\n",
    "- Filter Weight Dimension\n",
    "\n",
    "정의 불가능하며 input channel에 의존성을 가지고 있습니다.\n",
    "\n",
    "\n",
    "- Number of Filter\n",
    "\n",
    "정의 가능하며 Filter의 개수와 output channel은 비례합니다."
   ]
  },
  {
   "cell_type": "markdown",
   "metadata": {},
   "source": [
    "# Pooling\n",
    "\n",
    "- Max Pooling\n",
    "\n",
    "최대값을 뽑아 Pooling 구성\n",
    "\n",
    "- Average Pooling\n",
    "\n",
    "평균값을 뽑아 Pooling 구성"
   ]
  },
  {
   "cell_type": "markdown",
   "metadata": {},
   "source": [
    "# CNN Library - (PyTorch)\n",
    "\n",
    "torch.nn.Conv2d(in_channels, out_channels, kernel_size ...)"
   ]
  }
 ],
 "metadata": {
  "kernelspec": {
   "display_name": "Python 3",
   "language": "python",
   "name": "python3"
  },
  "language_info": {
   "codemirror_mode": {
    "name": "ipython",
    "version": 3
   },
   "file_extension": ".py",
   "mimetype": "text/x-python",
   "name": "python",
   "nbconvert_exporter": "python",
   "pygments_lexer": "ipython3",
   "version": "3.7.6"
  }
 },
 "nbformat": 4,
 "nbformat_minor": 4
}
