{
 "cells": [
  {
   "attachments": {},
   "cell_type": "markdown",
   "metadata": {},
   "source": [
    "# Distance\n",
    "\n",
    "- 얼마나 떨어져 있는지에 대한 수학적인 측정\n",
    "- Metrics의 Distance는 function을 이용해 계산\n",
    "- 유형별로 1 to 1과 1(or many) to many\n",
    "\n",
    "\n",
    "- 중요성: 유사도를 측정함으로써 데이터 사이의 연관성을 파악하는 데에 도움을 줍니다.\n",
    "\n",
    "\n",
    "- 적용: 이메일 사용자가 특정 메일을 스팸 메일로 분류하였다면 이 메일과 유사도가 높은, 비슷한 메일들은 스팸 메일일 확률이 높을 것입니다. 이런 일을 결정하기 위해 그 유사도를 측정하는 데에 적용할 수 있습니다.\n",
    "\n",
    "\n",
    "1. Euclidean Distance : Pair-wise\n",
    "\n",
    "\n",
    "- 여러 Dimension 표현 가능\n",
    "\n",
    "![title](Image/4-1.png)"
   ]
  },
  {
   "cell_type": "code",
   "execution_count": 2,
   "metadata": {},
   "outputs": [
    {
     "name": "stdout",
     "output_type": "stream",
     "text": [
      "유클리디안 거리: 2.23606797749979\n"
     ]
    }
   ],
   "source": [
    "from math import *\n",
    "\n",
    "def euclidean_distance(x,y):\n",
    "    return sqrt(sum(pow(a-b,2) for a, b in zip(x, y)))\n",
    "    \n",
    "x = [0, 0]\n",
    "y = [1, 2]\n",
    "\n",
    "print('유클리디안 거리:', euclidean_distance(x,y))"
   ]
  },
  {
   "cell_type": "code",
   "execution_count": 3,
   "metadata": {},
   "outputs": [
    {
     "name": "stdout",
     "output_type": "stream",
     "text": [
      "유클리디안 거리: 2.23606797749979\n"
     ]
    }
   ],
   "source": [
    "from scipy.spatial import distance\n",
    "\n",
    "print('유클리디안 거리:', distance.euclidean(x, y))"
   ]
  },
  {
   "attachments": {},
   "cell_type": "markdown",
   "metadata": {},
   "source": [
    "2. Manhattan Distance (Taxicab Geometry) : Pair-wise\n",
    "\n",
    "![title](Image/4-2.png)\n",
    "ex) 체스에서 킹이 이동하는 경로, 통신"
   ]
  },
  {
   "cell_type": "code",
   "execution_count": 2,
   "metadata": {},
   "outputs": [
    {
     "name": "stdout",
     "output_type": "stream",
     "text": [
      "맨허튼 거리: 3\n"
     ]
    }
   ],
   "source": [
    "def manhattan_distance(x,y): \n",
    "    if len(x)==len(y):\n",
    "        r = 0 \n",
    "        for i in range(0, len(x)):\n",
    "            r+=abs(x[i]-y[i])\n",
    "        return r\n",
    "    else:\n",
    "        return \"error\"\n",
    "    \n",
    "print('맨허튼 거리:', manhattan_distance(x,y))"
   ]
  },
  {
   "cell_type": "code",
   "execution_count": 4,
   "metadata": {},
   "outputs": [
    {
     "name": "stdout",
     "output_type": "stream",
     "text": [
      "맨허튼 거리: 3\n"
     ]
    }
   ],
   "source": [
    "print('맨허튼 거리:', distance.cityblock(x,y))"
   ]
  },
  {
   "cell_type": "markdown",
   "metadata": {},
   "source": [
    "3. Minkowski Distance : Pair-wise\n",
    "\n",
    "유클리디언 거리가 각 속성들 간의 차이를 모두 고려한 거리라면, 민코스키 거리는 가장 큰 차이만을 가지고 거리를 이야기한다. \n",
    "계산값이 0에 가까울수록 유사한 것이다."
   ]
  },
  {
   "attachments": {},
   "cell_type": "markdown",
   "metadata": {},
   "source": [
    "![title](Image/4-3.png)\n",
    "\n",
    "- 3가지 조건\n",
    "\n",
    "- zero vector: if f(v) = 0 then v = 0\n",
    "- Scalar Factor: if f(cv) = |c|*f(v)\n",
    "- Triangle Inequelity: f(u + v) ≤ f(u) + f(v)"
   ]
  },
  {
   "cell_type": "markdown",
   "metadata": {},
   "source": [
    "P-Norm\n",
    "\n",
    "- p = 1 -> Manhattan Norm\n",
    "- p = 2 -> Euclidian Norm\n",
    "- p = lim -> Maximum Norm"
   ]
  },
  {
   "cell_type": "code",
   "execution_count": 3,
   "metadata": {},
   "outputs": [
    {
     "name": "stdout",
     "output_type": "stream",
     "text": [
      "민코스키 거리: 8.373\n"
     ]
    }
   ],
   "source": [
    "from math import*\n",
    "from decimal import Decimal\n",
    "\n",
    "def nth_root(value, n_root):\n",
    "    root_value = 1/float(n_root)\n",
    "    return round (Decimal(value) ** Decimal(root_value),3)\n",
    "\n",
    "def minkowski_distance(x,y,p_value):\n",
    "    return nth_root(sum(pow(abs(a-b),p_value) for a,b in zip(x, y)),p_value)\n",
    "\n",
    "print('민코스키 거리:', minkowski_distance([0,3,4,5],[7,6,3,-1],3))"
   ]
  },
  {
   "attachments": {},
   "cell_type": "markdown",
   "metadata": {},
   "source": [
    "4. Cosine Distance : Pair-wise\n",
    "\n",
    "코사인 유사도는 두 벡터 간의 코사인 각도를 이용하여 구할 수 있는 두 벡터의 유사도를 의미한다. 두 벡터의 방향이 완전히 동일한 경우에는 1의 값을 가지며, 90°의 각을 이루면 0, 180°로 반대의 방향을 가지면 -1의 값을 갖게 된다. 즉, 값이 1에 가까울수록 유사도가 높다고 판단할 수 있다.\n",
    "\n",
    "![title](Image/4-4.png)\n"
   ]
  },
  {
   "cell_type": "code",
   "execution_count": 4,
   "metadata": {},
   "outputs": [
    {
     "name": "stdout",
     "output_type": "stream",
     "text": [
      "코사인 거리: 0.6666666666666667\n"
     ]
    }
   ],
   "source": [
    "from numpy import dot\n",
    "from numpy.linalg import norm\n",
    "import numpy as np\n",
    "\n",
    "def cos_sim(A, B):\n",
    "       return dot(A, B)/(norm(A)*norm(B))\n",
    "    \n",
    "x = np.array([0,1,1,1])\n",
    "y = np.array([1,0,1,1])\n",
    "\n",
    "print('코사인 거리:', cos_sim(x, y))"
   ]
  },
  {
   "cell_type": "code",
   "execution_count": 6,
   "metadata": {},
   "outputs": [
    {
     "name": "stdout",
     "output_type": "stream",
     "text": [
      "코사인 거리: 0.5\n"
     ]
    }
   ],
   "source": [
    "print('코사인 거리:', distance.cosine([1, 1, 0], [1, 0, 1]))"
   ]
  }
 ],
 "metadata": {
  "kernelspec": {
   "display_name": "Python 3",
   "language": "python",
   "name": "python3"
  },
  "language_info": {
   "codemirror_mode": {
    "name": "ipython",
    "version": 3
   },
   "file_extension": ".py",
   "mimetype": "text/x-python",
   "name": "python",
   "nbconvert_exporter": "python",
   "pygments_lexer": "ipython3",
   "version": "3.7.6"
  }
 },
 "nbformat": 4,
 "nbformat_minor": 4
}
